{
 "cells": [
  {
   "cell_type": "code",
   "execution_count": 1,
   "metadata": {},
   "outputs": [
    {
     "name": "stderr",
     "output_type": "stream",
     "text": [
      "Python-dotenv could not parse statement starting at line 1\n"
     ]
    },
    {
     "name": "stdout",
     "output_type": "stream",
     "text": [
      " ETH Private Key: 0x290b8cc766fb866206228d5ac88baf8d315607ed612fc98b92ed36029b9faee1\n",
      " BTC Test Private Key: cRX6LxpH3n8LcFU1dM9LgjezMwMfgwEQFfrUbDLQWZarHkaAEtWT\n"
     ]
    }
   ],
   "source": [
    "# Import neccessary libraries\n",
    "import subprocess\n",
    "import json\n",
    "import os\n",
    "from web3 import Web3\n",
    "from bit import PrivateKeyTestnet\n",
    "from bit.network import NetworkAPI\n",
    "from web3.middleware import geth_poa_middleware\n",
    "from web3.gas_strategies.time_based import medium_gas_price_strategy\n",
    "from eth_account import Account\n",
    "from constants import *\n",
    "from dotenv import load_dotenv\n",
    "load_dotenv()\n",
    "\n",
    "# Import Mnemonic key from an environment variable\n",
    "mnemonic = os.getenv('MNEMONIC', 'lucky ozone slender piano gather virus genuine couple birth pilot emerge narrow stay bread bring')\n",
    "\n",
    "# Create functions that derives the wallet keys \n",
    "def derive_wallets(mnemonic, coin, numderive):\n",
    "    command = f'./derive -g --mnemonic=\"{mnemonic}\" --cols=all --coin={coin} --numderive={numderive} --format=json'\n",
    "    p = subprocess.Popen(command, stdout=subprocess.PIPE, shell=True)\n",
    "    output, err = p.communicate()\n",
    "    p_status = p.wait()\n",
    "    keys = json.loads(output)\n",
    "    return keys\n",
    "\n",
    "# Store three constants in 'coins' variable \n",
    "coins = {\n",
    "    ETH: derive_wallets(mnemonic, ETH, 3),\n",
    "    BTCTEST: derive_wallets(mnemonic, BTCTEST, 3),\n",
    "    BTC: derive_wallets(mnemonic, BTC, 3)\n",
    "} \n",
    "\n",
    "w3 = Web3(Web3.HTTPProvider('http://127.0.0.1:8545'))\n",
    "w3.middleware_onion.inject(geth_poa_middleware, layer=0)\n",
    "w3.eth.setGasPriceStrategy(medium_gas_price_strategy)\n",
    "\n",
    "private_key = os.getenv(\"PRIVATE_KEY\")\n",
    "\n",
    "# Initiate the private keys for ETH and BTCTEST \n",
    "keys = {}\n",
    "for coin in coins:\n",
    "    keys[coin]= derive_wallets(mnemonic, coin, numderive=3)\n",
    "\n",
    "eth_priv_key = keys['eth'][0]['privkey']\n",
    "btc_test_priv_key = keys['btc-test'][0]['privkey']\n",
    "\n",
    "print(f\" ETH Private Key: {eth_priv_key}\")\n",
    "print(f\" BTC Test Private Key: {btc_test_priv_key}\")"
   ]
  },
  {
   "cell_type": "code",
   "execution_count": 2,
   "metadata": {},
   "outputs": [
    {
     "name": "stdout",
     "output_type": "stream",
     "text": [
      "{\n",
      "    \"btc\": [\n",
      "        {\n",
      "            \"address\": \"1Dhm9S73e1TiQ4E1cyMSckUTN3fBC76Tb2\",\n",
      "            \"index\": 0,\n",
      "            \"path\": \"m/44'/0'/0'/0/0\",\n",
      "            \"privkey\": \"L587w8hjD1cyvyLTgnzdhLKBwTtcezmXWroca1N4mvyNdWjn4SS7\",\n",
      "            \"pubkey\": \"021639a0c4bdf14239e8e485a3b22b9fc1194f8044819d786e8b537d1baf729986\",\n",
      "            \"pubkeyhash\": \"8b56ffa3f84481a7a10ab606ca9e415cecc6e733\",\n",
      "            \"xprv\": \"xprvA2SzFeDUQLWeczRRqtwpnXtvmuxH2oveis2SPj99dtgsY9BRaKikUyavhs4npQuf9efgcyBfeuG61jQujzXiGNcdGX1bVmbaKEUavAjg28w\",\n",
      "            \"xpub\": \"xpub6FSLf9kNEi4wqUVtwvUq9fqfKwnmSGeW65x3C7YmCEDrQwWa7s312muQZ6UVBcs8MqtyNKBucZjUikxoZX9CgXvLx1M2Gn6H3LQmdFFv8bg\"\n",
      "        },\n",
      "        {\n",
      "            \"address\": \"1BNZgKsU1LnzYrvRTufSeEErUzaSdukN5m\",\n",
      "            \"index\": 1,\n",
      "            \"path\": \"m/44'/0'/0'/0/1\",\n",
      "            \"privkey\": \"L4DNQ23fEcdZCvZwPWRWHm7Uro4EfwxZa38oLqGW4yEr2Q6pnSwQ\",\n",
      "            \"pubkey\": \"02ce369c30c111c32e695b508bd09260dec8bc57791721eb882e4470865b82741a\",\n",
      "            \"pubkeyhash\": \"71c545724e201fc82891eda3f8755995679a27cf\",\n",
      "            \"xprv\": \"xprvA2SzFeDUQLWeg3c9fNfYR9tENbS1bz79xQ18fZdWP8KWS1YibZyKKCZupz81djZF5WUKe3jHmywvzzv7uL3n46kqBRvoJhYEgKZS1gmpDVF\",\n",
      "            \"xpub\": \"xpub6FSLf9kNEi4wtXgcmQCYnHpxvdGW1Sq1KcvjTx37wTrVJoss97HZrztPgF8gucXw1RK53BfdCq3Y2XzLRfghxaDnH6hktRdKBasmdW1zmyE\"\n",
      "        },\n",
      "        {\n",
      "            \"address\": \"1HcjTthELfhFYKiN85sNKdWbZWk1tTeR8\",\n",
      "            \"index\": 2,\n",
      "            \"path\": \"m/44'/0'/0'/0/2\",\n",
      "            \"privkey\": \"Kwc7xyXwXw6YA99QxJWJ9iQeAwuSb253ATMhtfqPMzRQ5GtFoJCp\",\n",
      "            \"pubkey\": \"035ab37a50ae167d5f592413a6b183ce3af815951852066c662843217e23ca3569\",\n",
      "            \"pubkeyhash\": \"03247baa7bb2ecfda39df043a7be7bd26c5d2b0b\",\n",
      "            \"xprv\": \"xprvA2SzFeDUQLWeionTtinPz86b3wPW9zMNTEoGSg8WjzDeJZ49KgNcWL3C58YSpjtZAQxS2HtXrDQsFCjKq3Zfzu5ARroMDU6iSWezSrqyTcG\",\n",
      "            \"xpub\": \"xpub6FSLf9kNEi4wwHrvzkKQMG3KbyDzZT5DpTisF4Y8JKkdBMPHsDgs48MfvS7poFDfHSkiWjnVMnCAn68DE4UTVwnfCZQvE7ShauJUKTo4zuG\"\n",
      "        }\n",
      "    ],\n",
      "    \"btc-test\": [\n",
      "        {\n",
      "            \"address\": \"mzdKk2y5V73b8Fnzzk7npFyzrD6YzsG7mB\",\n",
      "            \"index\": 0,\n",
      "            \"path\": \"m/44'/1'/0'/0/0\",\n",
      "            \"privkey\": \"cRX6LxpH3n8LcFU1dM9LgjezMwMfgwEQFfrUbDLQWZarHkaAEtWT\",\n",
      "            \"pubkey\": \"02ad127f197768c5f8394f7dd598b948430f46018e4e4b849e3b6560e8f61d729c\",\n",
      "            \"pubkeyhash\": \"d19eca1ced22e2fe397f1835952495079cfa4fdb\",\n",
      "            \"xprv\": \"tprv8kcVo3zxkFi9NKjFEoLmYvUZBED3ihUMRBuNCqRtpT4jqxZamvQ1WtGstkWPKvHykuj1Te98kWLhL1icgVk8tupctbypKvrmcFDPptudSrR\",\n",
      "            \"xpub\": \"tpubDHJXwU3CtdPpFnm38T1MxL8fkFiyt2fFzVW9VMUCEis8gSpMQKDbhNtk4sskyvdGWN586tsJv6DBpekVAmSfJrtV96L6agVX8cJ9WBe5TmQ\"\n",
      "        },\n",
      "        {\n",
      "            \"address\": \"mraKXddfCDqvBeuRww81omNwXd6r4i8SQ7\",\n",
      "            \"index\": 1,\n",
      "            \"path\": \"m/44'/1'/0'/0/1\",\n",
      "            \"privkey\": \"cTUR7UbPMBuQAoP5PPVZeFGRrFcRxMCELocN6mTYVg4sjrTLy5of\",\n",
      "            \"pubkey\": \"02c4a7a7f34bba0d18c999aa31149d5222a5328e9b7e4a0d4354de1ea6f1e32471\",\n",
      "            \"pubkeyhash\": \"794c5b5a7a899ded03dc96fc67595388f2ab4ff6\",\n",
      "            \"xprv\": \"tprv8kcVo3zxkFi9PMGHxko23goy1p288G6cKS6xB1SeB2JWFmUWHRhU6hj8ULbRUCewALKnt9zpbVWGV56APUy2vYHhzgASgJRfhhvMPK9EmdK\",\n",
      "            \"xpub\": \"tpubDHJXwU3CtdPpGpJ5rQTcT6U5aqY4HbHWtjhjTXUwbJ6u6FjGupX4HCLzeThWNPvPrBxuD6dvcRPvmtGj5zpNvMDnpyNf8bDnGChJWRQ7MPS\"\n",
      "        },\n",
      "        {\n",
      "            \"address\": \"n3X6XX2RWjxNwWgbGPXZd1xZ8RVMUXpdNv\",\n",
      "            \"index\": 2,\n",
      "            \"path\": \"m/44'/1'/0'/0/2\",\n",
      "            \"privkey\": \"cR3WjgBm6F68BibgS138xdTbqvw9Dvc7AnaozpfBaufx2RxS7eop\",\n",
      "            \"pubkey\": \"03d0bc6629c843fe3d38d537bac95998742d0d2a0bf7ce84a2ac475a0947f379d1\",\n",
      "            \"pubkeyhash\": \"f159a39b8f5fcf263adfa28638c7f5bd466c213b\",\n",
      "            \"xprv\": \"tprv8kcVo3zxkFi9ShoM1XP2e1FaG5L5jicr7hJoTFhL26xx5d1Rh5zucAzS2P7fjo7gsb6ffvwEscWFT2yXmrV23jHPhygWe1gnkryTJ4DC8es\",\n",
      "            \"xpub\": \"tpubDHJXwU3CtdPpLAq8uB3d3Qugq6r1u3okgzuajmjdSNmLv7GCKUpVnfcJCYojxn9YtGM8LCe7JHhsDtFCmxjL9JCh7mFLqTVARAvqCHURnQv\"\n",
      "        }\n",
      "    ],\n",
      "    \"eth\": [\n",
      "        {\n",
      "            \"address\": \"0x6744E3a08092044cF822620666F623deFf00C1c9\",\n",
      "            \"index\": 0,\n",
      "            \"path\": \"m/44'/60'/0'/0/0\",\n",
      "            \"privkey\": \"0x290b8cc766fb866206228d5ac88baf8d315607ed612fc98b92ed36029b9faee1\",\n",
      "            \"pubkey\": \"030e65a5debc94591f565d09a52b05a29441ed56755a6ac401785c8ef62c218e26\",\n",
      "            \"pubkeyhash\": \"834b146e81978991ec9525a2c7dbdbec543bb8f0\",\n",
      "            \"xprv\": \"xprvA2seLQu3xhGLye47WjswCvovJ6AgkjqWgRGqbvZRbfwQXKcktzp1TjJvzLhTq4xGJGukmit4qTFzHyW1oomrKVpA5NkyszQrxTtc2mXMntb\",\n",
      "            \"xpub\": \"xpub6FrzjvRwo4peC88acmQwa4ker81BACZN3eCSQJy3A1UPQ7wuSY8G1XdQqdUEkzMhg9FmCT9kn96FLfjtoTq8ULpTocwbNnf9a4MPUq125SG\"\n",
      "        },\n",
      "        {\n",
      "            \"address\": \"0xc7cD96f141ABEb2a60BF27e5D474fbB75aC13f11\",\n",
      "            \"index\": 1,\n",
      "            \"path\": \"m/44'/60'/0'/0/1\",\n",
      "            \"privkey\": \"0xcd9c19311347ee7c62cbd56356282096c9f8554b2528942cbf077a302acee708\",\n",
      "            \"pubkey\": \"03eee76970261d894bc96e6a035524ea7bc1e44bced7d3effa33ee382b737a1c8b\",\n",
      "            \"pubkeyhash\": \"e6ee066394f942265a3c82ae73401b47b973927a\",\n",
      "            \"xprv\": \"xprvA2seLQu3xhGM2gdP8EChwYDpj1LhLEUP35a4anbmfuXLyRN75wWVSzCKJvyfos2P6s1hDiDiaLkaToM94xZREW5E6561XYjcSwzPbNTsFfM\",\n",
      "            \"xpub\": \"xpub6FrzjvRwo4peFAhrEFjiJgAZH3BBjhCEQJVfPB1PEF4KrDhFdUpjznWoAECqt9khbipHbztuQzzNYCNppQCWB8mVATUeQPbVYWM239njceM\"\n",
      "        },\n",
      "        {\n",
      "            \"address\": \"0x11730a4c99697ddfb5b5d1A5E3719c4D4b74d0cF\",\n",
      "            \"index\": 2,\n",
      "            \"path\": \"m/44'/60'/0'/0/2\",\n",
      "            \"privkey\": \"0x7dd0176b7f7058dad35a1bd7ab4af740adebcfb56ef8d450467b5e125749e9af\",\n",
      "            \"pubkey\": \"026a22d79c9891fa1ff08bda53695480f77ed924666c3445fd41e71088af872aff\",\n",
      "            \"pubkeyhash\": \"c1bbf3a1a9bd4abeb4b43b80ec82e7b948cbf29d\",\n",
      "            \"xprv\": \"xprvA2seLQu3xhGM3mQbkEYx57MdfdhQ9FuVTJRSZBQbYPpEy2ZiPm4bzfpU93uocYqJRxmdWNsmEQDm53S11HqKKM2HAebzDhcCzr5tKrE1FBR\",\n",
      "            \"xpub\": \"xpub6FrzjvRwo4peGFV4rG5xSFJNDfXtYidLpXM3MZpD6jMDqptrwJNrYU8wzJnuSSfVZaWRy47WuD98PRAwG1Efb22u92umhCHd9uxzmfV8rcq\"\n",
      "        }\n",
      "    ]\n",
      "}\n"
     ]
    }
   ],
   "source": [
    "print(json.dumps(keys, indent=4, sort_keys=True))"
   ]
  },
  {
   "cell_type": "code",
   "execution_count": 3,
   "metadata": {},
   "outputs": [],
   "source": [
    "def priv_key_to_account(coin, priv_key):\n",
    "    if coin == ETH:\n",
    "        return Account.privateKeyToAccount(priv_key)\n",
    "    elif coin == BTCTEST:\n",
    "        return PrivateKeyTestnet(priv_key)"
   ]
  },
  {
   "cell_type": "code",
   "execution_count": 4,
   "metadata": {},
   "outputs": [],
   "source": [
    "# Create function that contains all metadata needed for transaction\n",
    "def create_tx(coin, account, to, amount):\n",
    "    if coin == ETH:\n",
    "        gasEstimate = w3.eth.estimateGas(\n",
    "        {\"from\": eth_account.address, \"to\": recipient, \"value\": amount}\n",
    "    )\n",
    "        return {\n",
    "            \"from\": eth_account.address,\n",
    "            \"to\": recipient,\n",
    "            \"value\": amount,\n",
    "            \"gasPrice\": w3.eth.gasPrice,\n",
    "            \"gas\": gasEstimate,\n",
    "            \"nonce\": w3.eth.getTransactionCount(eth_account.address)}\n",
    "    elif coin == BTCTEST:\n",
    "        return PrivateKeyTestnet.prepare_transaction(account.address, [(to, amount, BTC)])"
   ]
  },
  {
   "cell_type": "code",
   "execution_count": 5,
   "metadata": {},
   "outputs": [],
   "source": [
    "# Create function to sign the transaction\n",
    "eth_account = priv_key_to_account(ETH, derive_wallets(mnemonic, ETH, 6)[0]['privkey'])\n",
    "btc_test_account = priv_key_to_account(BTCTEST,btc_test_priv_key)\n",
    "\n",
    "def send_tx(coin, account, to, amount):\n",
    "    tx = create_tx(coin, account, recipient, amount)\n",
    "    \n",
    "    if coin == ETH:\n",
    "        signed_tx = eth_account.sign_transaction(tx)\n",
    "        result = w3.eth.sendRawTransaction(signed_tx.rawTransaction)\n",
    "        print(result.hex())\n",
    "        return w3.eth.sendRawTransaction(signed.rawTransaction)\n",
    "    elif coin == BTCTEST:\n",
    "        tx_btc_test = create_tx(coin, account, recipient, amount)\n",
    "        signed_txn = account.sign_transaction(txn)\n",
    "        print(signed_txn)\n",
    "        return NetworkAPI.broadcast_tx_testnet(signed)"
   ]
  },
  {
   "cell_type": "code",
   "execution_count": 10,
   "metadata": {},
   "outputs": [
    {
     "data": {
      "text/plain": [
       "<PrivateKeyTestnet: mzdKk2y5V73b8Fnzzk7npFyzrD6YzsG7mB>"
      ]
     },
     "execution_count": 10,
     "metadata": {},
     "output_type": "execute_result"
    }
   ],
   "source": [
    "btc_test_account = priv_key_to_account(BTCTEST,btc_test_priv_key)\n",
    "btc_test_account"
   ]
  },
  {
   "cell_type": "code",
   "execution_count": 9,
   "metadata": {},
   "outputs": [
    {
     "ename": "ValueError",
     "evalue": "Transactions must have at least one unspent.",
     "output_type": "error",
     "traceback": [
      "\u001b[0;31m---------------------------------------------------------------------------\u001b[0m",
      "\u001b[0;31mValueError\u001b[0m                                Traceback (most recent call last)",
      "\u001b[0;32m<ipython-input-9-61bf35d0bc3e>\u001b[0m in \u001b[0;36m<module>\u001b[0;34m\u001b[0m\n\u001b[0;32m----> 1\u001b[0;31m \u001b[0mcreate_tx\u001b[0m\u001b[0;34m(\u001b[0m\u001b[0mBTCTEST\u001b[0m\u001b[0;34m,\u001b[0m\u001b[0mbtc_test_account\u001b[0m\u001b[0;34m,\u001b[0m\u001b[0;34m\"mzdKk2y5V73b8Fnzzk7npFyzrD6YzsG7mB\"\u001b[0m\u001b[0;34m,\u001b[0m \u001b[0;36m1\u001b[0m\u001b[0;34m)\u001b[0m\u001b[0;34m\u001b[0m\u001b[0;34m\u001b[0m\u001b[0m\n\u001b[0m",
      "\u001b[0;32m<ipython-input-4-f73ac03c51d8>\u001b[0m in \u001b[0;36mcreate_tx\u001b[0;34m(coin, account, to, amount)\u001b[0m\n\u001b[1;32m     13\u001b[0m             \"nonce\": w3.eth.getTransactionCount(eth_account.address)}\n\u001b[1;32m     14\u001b[0m     \u001b[0;32melif\u001b[0m \u001b[0mcoin\u001b[0m \u001b[0;34m==\u001b[0m \u001b[0mBTCTEST\u001b[0m\u001b[0;34m:\u001b[0m\u001b[0;34m\u001b[0m\u001b[0;34m\u001b[0m\u001b[0m\n\u001b[0;32m---> 15\u001b[0;31m         \u001b[0;32mreturn\u001b[0m \u001b[0mPrivateKeyTestnet\u001b[0m\u001b[0;34m.\u001b[0m\u001b[0mprepare_transaction\u001b[0m\u001b[0;34m(\u001b[0m\u001b[0maccount\u001b[0m\u001b[0;34m.\u001b[0m\u001b[0maddress\u001b[0m\u001b[0;34m,\u001b[0m \u001b[0;34m[\u001b[0m\u001b[0;34m(\u001b[0m\u001b[0mto\u001b[0m\u001b[0;34m,\u001b[0m \u001b[0mamount\u001b[0m\u001b[0;34m,\u001b[0m \u001b[0mBTC\u001b[0m\u001b[0;34m)\u001b[0m\u001b[0;34m]\u001b[0m\u001b[0;34m)\u001b[0m\u001b[0;34m\u001b[0m\u001b[0;34m\u001b[0m\u001b[0m\n\u001b[0m",
      "\u001b[0;32m/opt/anaconda3/envs/ethereum/lib/python3.7/site-packages/bit/wallet.py\u001b[0m in \u001b[0;36mprepare_transaction\u001b[0;34m(cls, address, outputs, compressed, fee, absolute_fee, leftover, combine, message, unspents, message_is_hex, replace_by_fee)\u001b[0m\n\u001b[1;32m    850\u001b[0m             \u001b[0mversion\u001b[0m\u001b[0;34m=\u001b[0m\u001b[0;34m'test'\u001b[0m\u001b[0;34m,\u001b[0m\u001b[0;34m\u001b[0m\u001b[0;34m\u001b[0m\u001b[0m\n\u001b[1;32m    851\u001b[0m             \u001b[0mmessage_is_hex\u001b[0m\u001b[0;34m=\u001b[0m\u001b[0mmessage_is_hex\u001b[0m\u001b[0;34m,\u001b[0m\u001b[0;34m\u001b[0m\u001b[0;34m\u001b[0m\u001b[0m\n\u001b[0;32m--> 852\u001b[0;31m             \u001b[0mreplace_by_fee\u001b[0m\u001b[0;34m=\u001b[0m\u001b[0mreplace_by_fee\u001b[0m\u001b[0;34m\u001b[0m\u001b[0;34m\u001b[0m\u001b[0m\n\u001b[0m\u001b[1;32m    853\u001b[0m         )\n\u001b[1;32m    854\u001b[0m \u001b[0;34m\u001b[0m\u001b[0m\n",
      "\u001b[0;32m/opt/anaconda3/envs/ethereum/lib/python3.7/site-packages/bit/transaction.py\u001b[0m in \u001b[0;36msanitize_tx_data\u001b[0;34m(unspents, outputs, fee, leftover, combine, message, compressed, absolute_fee, min_change, version, message_is_hex, replace_by_fee)\u001b[0m\n\u001b[1;32m    403\u001b[0m \u001b[0;34m\u001b[0m\u001b[0m\n\u001b[1;32m    404\u001b[0m     \u001b[0;32mif\u001b[0m \u001b[0;32mnot\u001b[0m \u001b[0munspents\u001b[0m\u001b[0;34m:\u001b[0m\u001b[0;34m\u001b[0m\u001b[0;34m\u001b[0m\u001b[0m\n\u001b[0;32m--> 405\u001b[0;31m         \u001b[0;32mraise\u001b[0m \u001b[0mValueError\u001b[0m\u001b[0;34m(\u001b[0m\u001b[0;34m'Transactions must have at least one unspent.'\u001b[0m\u001b[0;34m)\u001b[0m\u001b[0;34m\u001b[0m\u001b[0;34m\u001b[0m\u001b[0m\n\u001b[0m\u001b[1;32m    406\u001b[0m \u001b[0;34m\u001b[0m\u001b[0m\n\u001b[1;32m    407\u001b[0m     \u001b[0;31m# Temporary storage so all outputs precede messages.\u001b[0m\u001b[0;34m\u001b[0m\u001b[0;34m\u001b[0m\u001b[0;34m\u001b[0m\u001b[0m\n",
      "\u001b[0;31mValueError\u001b[0m: Transactions must have at least one unspent."
     ]
    }
   ],
   "source": [
    "create_tx(BTCTEST,btc_test_account,\"mzdKk2y5V73b8Fnzzk7npFyzrD6YzsG7mB\", 0.1)"
   ]
  },
  {
   "cell_type": "code",
   "execution_count": null,
   "metadata": {},
   "outputs": [],
   "source": []
  }
 ],
 "metadata": {
  "kernelspec": {
   "display_name": "Python [conda env:ethereum]",
   "language": "python",
   "name": "conda-env-ethereum-py"
  },
  "language_info": {
   "codemirror_mode": {
    "name": "ipython",
    "version": 3
   },
   "file_extension": ".py",
   "mimetype": "text/x-python",
   "name": "python",
   "nbconvert_exporter": "python",
   "pygments_lexer": "ipython3",
   "version": "3.7.9"
  }
 },
 "nbformat": 4,
 "nbformat_minor": 4
}
