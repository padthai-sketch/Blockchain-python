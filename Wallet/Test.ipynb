{
 "cells": [
  {
   "cell_type": "code",
   "execution_count": 7,
   "metadata": {},
   "outputs": [
    {
     "name": "stderr",
     "output_type": "stream",
     "text": [
      "Python-dotenv could not parse statement starting at line 1\n"
     ]
    },
    {
     "name": "stdout",
     "output_type": "stream",
     "text": [
      " ETH Private Key: 0xb1611113d2594b1aa820f204521ef3283c7044811438c2b4d978554316a9122c\n",
      " BTC Test Private Key: cRMm5qqp8F1iSjshDZygHoNpg4MQxUHhLhsRdXhensQWLvdAvpfY\n"
     ]
    }
   ],
   "source": [
    "# Import neccessary libraries\n",
    "import subprocess\n",
    "import json\n",
    "import os\n",
    "from web3 import Web3\n",
    "from bit import PrivateKeyTestnet\n",
    "from bit.network import NetworkAPI\n",
    "from web3.middleware import geth_poa_middleware\n",
    "from web3.gas_strategies.time_based import medium_gas_price_strategy\n",
    "from eth_account import Account\n",
    "from constants import *\n",
    "from dotenv import load_dotenv\n",
    "load_dotenv()\n",
    "\n",
    "# Import Mnemonic key from an environment variable\n",
    "mnemonic = os.getenv('MNEMONIC', 'fame size ladder slide betray silver bless wreck raise nose spider metal')\n",
    "\n",
    "# Create functions that derives the wallet keys \n",
    "def derive_wallets(mnemonic, coin, numderive):\n",
    "    command = f'./derive -g --mnemonic=\"{mnemonic}\" --cols=all --coin={coin} --numderive={numderive} --format=json'\n",
    "    p = subprocess.Popen(command, stdout=subprocess.PIPE, shell=True)\n",
    "    output, err = p.communicate()\n",
    "    p_status = p.wait()\n",
    "    keys = json.loads(output)\n",
    "    return keys\n",
    "\n",
    "# Store three constants in 'coins' variable \n",
    "coins = {\n",
    "    ETH: derive_wallets(mnemonic, ETH, 3),\n",
    "    BTCTEST: derive_wallets(mnemonic, BTCTEST, 3),\n",
    "    BTC: derive_wallets(mnemonic, BTC, 3)\n",
    "} \n",
    "\n",
    "w3 = Web3(Web3.HTTPProvider('http://127.0.0.1:8545'))\n",
    "w3.middleware_onion.inject(geth_poa_middleware, layer=0)\n",
    "w3.eth.setGasPriceStrategy(medium_gas_price_strategy)\n",
    "\n",
    "private_key = os.getenv(\"PRIVATE_KEY\")\n",
    "\n",
    "# Initiate the private keys for ETH and BTCTEST \n",
    "keys = {}\n",
    "for coin in coins:\n",
    "    keys[coin]= derive_wallets(mnemonic, coin, numderive=3)\n",
    "\n",
    "eth_priv_key = keys['eth'][0]['privkey']\n",
    "btc_test_priv_key = keys['btc-test'][0]['privkey']\n",
    "\n",
    "print(f\" ETH Private Key: {eth_priv_key}\")\n",
    "print(f\" BTC Test Private Key: {btc_test_priv_key}\")\n",
    "\n",
    "# Define function to convert the privkey string to an account object\n",
    "def priv_key_to_account(coin, priv_key):\n",
    "    private_key = os.getenv(\"PRIVATE_KEY\")\n",
    "    if coin == ETH:\n",
    "        return Account.privateKeyToAccount(priv_key)\n",
    "    elif coin == BTCTEST:\n",
    "        return PrivateKeyTestnet(priv_key)\n",
    "\n",
    "# Create function that contains all metadata needed for transaction\n",
    "def create_tx(coin, account, to, amount):\n",
    "    if coin == ETH:\n",
    "        gasEstimate = w3.eth.estimateGas(\n",
    "        {\"from\": eth_account.address, \"to\": recipient, \"value\": amount}\n",
    "    )\n",
    "        return {\n",
    "            \"from\": eth_account.address,\n",
    "            \"to\": recipient,\n",
    "            \"value\": amount,\n",
    "            \"gasPrice\": w3.eth.gasPrice,\n",
    "            \"gas\": gasEstimate,\n",
    "            \"nonce\": w3.eth.getTransactionCount(eth_account.address)}\n",
    "    elif coin == BTCTEST:\n",
    "        return PrivateKeyTestnet.prepare_transaction(account.address, [(to, amount, BTC)])\n",
    "\n",
    "# Create function to sign the transaction\n",
    "eth_account = priv_key_to_account(ETH, derive_wallets(mnemonic, ETH, 6)[0]['privkey'])\n",
    "btc_test_account = priv_key_to_account(BTCTEST,btc_test_priv_key)\n",
    "\n",
    "def send_tx(coin, account, to, amount):\n",
    "    tx = create_tx(coin, account, to, amount)\n",
    "    \n",
    "    if coin == ETH:\n",
    "        signed_tx = eth_account.sign_transaction(tx)\n",
    "        result = w3.eth.sendRawTransaction(signed_tx.rawTransaction)\n",
    "        print(result.hex())\n",
    "        return w3.eth.sendRawTransaction(signed_tx.rawTransaction)\n",
    "    elif coin == BTCTEST:\n",
    "        tx_btc_test = create_tx(coin, account, to, amount)\n",
    "        signed_tx = account.sign_transaction(tx)\n",
    "        print(signed_tx)\n",
    "        return NetworkAPI.broadcast_tx_testnet(signed_tx)"
   ]
  },
  {
   "cell_type": "markdown",
   "metadata": {},
   "source": [
    "## BTC-TEST Transactions"
   ]
  },
  {
   "cell_type": "code",
   "execution_count": 8,
   "metadata": {},
   "outputs": [
    {
     "data": {
      "text/plain": [
       "'{\"unspents\":[{\"amount\":1770052,\"confirmations\":0,\"script\":\"76a914b70707405e596e7948efc0d6a5900521986e6c6288ac\",\"txid\":\"c5dbbb30ab3f774758c42a399c6e58817362a0c0f3e2f7719e478767e3e6b4b6\",\"txindex\":1,\"type\":\"p2pkh\",\"vsize\":148,\"segwit\":false,\"sequence\":4294967295}],\"outputs\":[[\"mxCiNVhZza6oJ7ynoahArJDAqEarPEmu3y\",1000],[\"mxCiNVhZza6oJ7ynoahArJDAqEarPEmu3y\",1746000]]}'"
      ]
     },
     "execution_count": 8,
     "metadata": {},
     "output_type": "execute_result"
    }
   ],
   "source": [
    "create_tx(BTCTEST,btc_test_account,\"mxCiNVhZza6oJ7ynoahArJDAqEarPEmu3y\", 0.00001)"
   ]
  },
  {
   "cell_type": "code",
   "execution_count": 9,
   "metadata": {},
   "outputs": [
    {
     "name": "stdout",
     "output_type": "stream",
     "text": [
      "0100000001b6b4e6e36787479e71f7e2f3c0a0627381586e9c392ac45847773fab30bbdbc5010000006a4730440220294a1837adcb23f7e2e4ce415e099ccc6bc22f89923981768b5c77a0d6f3bedc02203507e92b3e9a3a76ddacebdc9101fd618ff9a8892b796734f29588261e0575f0012103a0d9bd970ecdce0977d43c76e6b7b83b12d65cfb8fce72a899648f8ed558e57affffffff02e8030000000000001976a9144221990457164d47298efd46fa5d2b95c85e292288ac50a41a00000000001976a914b70707405e596e7948efc0d6a5900521986e6c6288ac00000000\n"
     ]
    }
   ],
   "source": [
    "send_tx(BTCTEST,btc_test_account,\"mmYd98EUReS6kJUF2vtyAYWe2RrBbyuG2C\", 0.00001)"
   ]
  }
 ],
 "metadata": {
  "kernelspec": {
   "display_name": "Python [conda env:ethereum]",
   "language": "python",
   "name": "conda-env-ethereum-py"
  },
  "language_info": {
   "codemirror_mode": {
    "name": "ipython",
    "version": 3
   },
   "file_extension": ".py",
   "mimetype": "text/x-python",
   "name": "python",
   "nbconvert_exporter": "python",
   "pygments_lexer": "ipython3",
   "version": "3.7.9"
  }
 },
 "nbformat": 4,
 "nbformat_minor": 4
}
